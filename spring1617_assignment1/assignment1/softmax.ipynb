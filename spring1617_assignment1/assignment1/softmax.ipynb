{
 "cells": [
  {
   "cell_type": "markdown",
   "metadata": {},
   "source": [
    "# Softmax exercise\n",
    "\n",
    "*Complete and hand in this completed worksheet (including its outputs and any supporting code outside of the worksheet) with your assignment submission. For more details see the [assignments page](http://vision.stanford.edu/teaching/cs231n/assignments.html) on the course website.*\n",
    "\n",
    "This exercise is analogous to the SVM exercise. You will:\n",
    "\n",
    "- implement a fully-vectorized **loss function** for the Softmax classifier\n",
    "- implement the fully-vectorized expression for its **analytic gradient**\n",
    "- **check your implementation** with numerical gradient\n",
    "- use a validation set to **tune the learning rate and regularization** strength\n",
    "- **optimize** the loss function with **SGD**\n",
    "- **visualize** the final learned weights\n"
   ]
  },
  {
   "cell_type": "code",
   "execution_count": 1,
   "metadata": {
    "collapsed": true
   },
   "outputs": [],
   "source": [
    "import random\n",
    "import numpy as np\n",
    "from cs231n.data_utils import load_CIFAR10\n",
    "import matplotlib.pyplot as plt\n",
    "\n",
    "from __future__ import print_function\n",
    "\n",
    "%matplotlib inline\n",
    "plt.rcParams['figure.figsize'] = (10.0, 8.0) # set default size of plots\n",
    "plt.rcParams['image.interpolation'] = 'nearest'\n",
    "plt.rcParams['image.cmap'] = 'gray'\n",
    "\n",
    "# for auto-reloading extenrnal modules\n",
    "# see http://stackoverflow.com/questions/1907993/autoreload-of-modules-in-ipython\n",
    "%load_ext autoreload\n",
    "%autoreload 2"
   ]
  },
  {
   "cell_type": "code",
   "execution_count": 2,
   "metadata": {},
   "outputs": [
    {
     "name": "stdout",
     "output_type": "stream",
     "text": [
      "Train data shape:  (49000L, 3073L)\n",
      "Train labels shape:  (49000L,)\n",
      "Validation data shape:  (1000L, 3073L)\n",
      "Validation labels shape:  (1000L,)\n",
      "Test data shape:  (1000L, 3073L)\n",
      "Test labels shape:  (1000L,)\n",
      "dev data shape:  (500L, 3073L)\n",
      "dev labels shape:  (500L,)\n"
     ]
    }
   ],
   "source": [
    "def get_CIFAR10_data(num_training=49000, num_validation=1000, num_test=1000, num_dev=500):\n",
    "    \"\"\"\n",
    "    Load the CIFAR-10 dataset from disk and perform preprocessing to prepare\n",
    "    it for the linear classifier. These are the same steps as we used for the\n",
    "    SVM, but condensed to a single function.  \n",
    "    \"\"\"\n",
    "    # Load the raw CIFAR-10 data\n",
    "    cifar10_dir = 'cs231n/datasets/cifar-10-batches-py'\n",
    "    X_train, y_train, X_test, y_test = load_CIFAR10(cifar10_dir)\n",
    "    \n",
    "    # subsample the data\n",
    "    mask = list(range(num_training, num_training + num_validation))\n",
    "    X_val = X_train[mask]\n",
    "    y_val = y_train[mask]\n",
    "    mask = list(range(num_training))\n",
    "    X_train = X_train[mask]\n",
    "    y_train = y_train[mask]\n",
    "    mask = list(range(num_test))\n",
    "    X_test = X_test[mask]\n",
    "    y_test = y_test[mask]\n",
    "    mask = np.random.choice(num_training, num_dev, replace=False)\n",
    "    X_dev = X_train[mask]\n",
    "    y_dev = y_train[mask]\n",
    "    \n",
    "    # Preprocessing: reshape the image data into rows\n",
    "    X_train = np.reshape(X_train, (X_train.shape[0], -1))\n",
    "    X_val = np.reshape(X_val, (X_val.shape[0], -1))\n",
    "    X_test = np.reshape(X_test, (X_test.shape[0], -1))\n",
    "    X_dev = np.reshape(X_dev, (X_dev.shape[0], -1))\n",
    "    \n",
    "    # Normalize the data: subtract the mean image\n",
    "    mean_image = np.mean(X_train, axis = 0)\n",
    "    X_train -= mean_image\n",
    "    X_val -= mean_image\n",
    "    X_test -= mean_image\n",
    "    X_dev -= mean_image\n",
    "    \n",
    "    # add bias dimension and transform into columns\n",
    "    X_train = np.hstack([X_train, np.ones((X_train.shape[0], 1))])\n",
    "    X_val = np.hstack([X_val, np.ones((X_val.shape[0], 1))])\n",
    "    X_test = np.hstack([X_test, np.ones((X_test.shape[0], 1))])\n",
    "    X_dev = np.hstack([X_dev, np.ones((X_dev.shape[0], 1))])\n",
    "    \n",
    "    return X_train, y_train, X_val, y_val, X_test, y_test, X_dev, y_dev\n",
    "\n",
    "\n",
    "# Invoke the above function to get our data.\n",
    "X_train, y_train, X_val, y_val, X_test, y_test, X_dev, y_dev = get_CIFAR10_data()\n",
    "print('Train data shape: ', X_train.shape)\n",
    "print('Train labels shape: ', y_train.shape)\n",
    "print('Validation data shape: ', X_val.shape)\n",
    "print('Validation labels shape: ', y_val.shape)\n",
    "print('Test data shape: ', X_test.shape)\n",
    "print('Test labels shape: ', y_test.shape)\n",
    "print('dev data shape: ', X_dev.shape)\n",
    "print('dev labels shape: ', y_dev.shape)"
   ]
  },
  {
   "cell_type": "markdown",
   "metadata": {},
   "source": [
    "## Softmax Classifier\n",
    "\n",
    "Your code for this section will all be written inside **cs231n/classifiers/softmax.py**. \n"
   ]
  },
  {
   "cell_type": "code",
   "execution_count": 3,
   "metadata": {},
   "outputs": [
    {
     "name": "stdout",
     "output_type": "stream",
     "text": [
      "loss: 2.395641\n",
      "sanity check: 2.302585\n"
     ]
    }
   ],
   "source": [
    "# First implement the naive softmax loss function with nested loops.\n",
    "# Open the file cs231n/classifiers/softmax.py and implement the\n",
    "# softmax_loss_naive function.\n",
    "\n",
    "from cs231n.classifiers.softmax import softmax_loss_naive\n",
    "import time\n",
    "\n",
    "# Generate a random softmax weight matrix and use it to compute the loss.\n",
    "W = np.random.randn(3073, 10) * 0.0001\n",
    "loss, grad = softmax_loss_naive(W, X_dev, y_dev, 0.0)\n",
    "\n",
    "# As a rough sanity check, our loss should be something close to -log(0.1).\n",
    "print('loss: %f' % loss)\n",
    "print('sanity check: %f' % (-np.log(0.1)))"
   ]
  },
  {
   "cell_type": "markdown",
   "metadata": {},
   "source": [
    "## Inline Question 1:\n",
    "Why do we expect our loss to be close to -log(0.1)? Explain briefly.**\n",
    "\n",
    "**Your answer:** *with a random initialized weight and zero regularization factor, the probability of each class should be 1/10.*\n"
   ]
  },
  {
   "cell_type": "code",
   "execution_count": 4,
   "metadata": {},
   "outputs": [
    {
     "name": "stdout",
     "output_type": "stream",
     "text": [
      "numerical: 2.860415 analytic: 2.860415, relative error: 7.468969e-09\n",
      "numerical: 1.697168 analytic: 1.697168, relative error: 9.810659e-09\n",
      "numerical: -5.417682 analytic: -5.417682, relative error: 1.743999e-09\n",
      "numerical: 2.960728 analytic: 2.960728, relative error: 1.457504e-09\n",
      "numerical: -0.145198 analytic: -0.145198, relative error: 3.984325e-08\n",
      "numerical: 2.241104 analytic: 2.241104, relative error: 7.167387e-09\n",
      "numerical: -1.043280 analytic: -1.043280, relative error: 3.054985e-08\n",
      "numerical: 2.100560 analytic: 2.100560, relative error: 4.271140e-08\n",
      "numerical: 2.359349 analytic: 2.359349, relative error: 2.358053e-08\n",
      "numerical: 2.151218 analytic: 2.151218, relative error: 2.357294e-08\n",
      "numerical: 1.719359 analytic: 1.719359, relative error: 1.967233e-08\n",
      "numerical: -0.186843 analytic: -0.186843, relative error: 6.317830e-08\n",
      "numerical: -1.056809 analytic: -1.056809, relative error: 1.210658e-08\n",
      "numerical: -2.440147 analytic: -2.440147, relative error: 9.684820e-09\n",
      "numerical: 2.603037 analytic: 2.603037, relative error: 1.165182e-08\n",
      "numerical: -0.795597 analytic: -0.795597, relative error: 4.359850e-08\n",
      "numerical: 2.438220 analytic: 2.438220, relative error: 2.240176e-09\n",
      "numerical: -0.531060 analytic: -0.531060, relative error: 9.861242e-08\n",
      "numerical: -0.872788 analytic: -0.872788, relative error: 5.983091e-08\n",
      "numerical: -0.937502 analytic: -0.937502, relative error: 1.320497e-08\n"
     ]
    }
   ],
   "source": [
    "# Complete the implementation of softmax_loss_naive and implement a (naive)\n",
    "# version of the gradient that uses nested loops.\n",
    "loss, grad = softmax_loss_naive(W, X_dev, y_dev, 0.0)\n",
    "\n",
    "# As we did for the SVM, use numeric gradient checking as a debugging tool.\n",
    "# The numeric gradient should be close to the analytic gradient.\n",
    "from cs231n.gradient_check import grad_check_sparse\n",
    "f = lambda w: softmax_loss_naive(w, X_dev, y_dev, 0.0)[0]\n",
    "grad_numerical = grad_check_sparse(f, W, grad, 10)\n",
    "\n",
    "# similar to SVM case, do another gradient check with regularization\n",
    "loss, grad = softmax_loss_naive(W, X_dev, y_dev, 5e1)\n",
    "f = lambda w: softmax_loss_naive(w, X_dev, y_dev, 5e1)[0]\n",
    "grad_numerical = grad_check_sparse(f, W, grad, 10)"
   ]
  },
  {
   "cell_type": "code",
   "execution_count": 7,
   "metadata": {},
   "outputs": [
    {
     "name": "stdout",
     "output_type": "stream",
     "text": [
      "naive loss: 2.395641e+00 computed in 0.039000s\n",
      "vectorized loss: 2.395641e+00 computed in 0.000000s\n",
      "Loss difference: 0.000000\n",
      "Gradient difference: 0.000000\n"
     ]
    }
   ],
   "source": [
    "# Now that we have a naive implementation of the softmax loss function and its gradient,\n",
    "# implement a vectorized version in softmax_loss_vectorized.\n",
    "# The two versions should compute the same results, but the vectorized version should be\n",
    "# much faster.\n",
    "tic = time.time()\n",
    "loss_naive, grad_naive = softmax_loss_naive(W, X_dev, y_dev, 0.000005)\n",
    "toc = time.time()\n",
    "print('naive loss: %e computed in %fs' % (loss_naive, toc - tic))\n",
    "\n",
    "from cs231n.classifiers.softmax import softmax_loss_vectorized\n",
    "tic = time.time()\n",
    "loss_vectorized, grad_vectorized = softmax_loss_vectorized(W, X_dev, y_dev, 0.000005)\n",
    "toc = time.time()\n",
    "print('vectorized loss: %e computed in %fs' % (loss_vectorized, toc - tic))\n",
    "\n",
    "# As we did for the SVM, we use the Frobenius norm to compare the two versions\n",
    "# of the gradient.\n",
    "grad_difference = np.linalg.norm(grad_naive - grad_vectorized, ord='fro')\n",
    "print('Loss difference: %f' % np.abs(loss_naive - loss_vectorized))\n",
    "print('Gradient difference: %f' % grad_difference)"
   ]
  },
  {
   "cell_type": "code",
   "execution_count": 13,
   "metadata": {},
   "outputs": [
    {
     "name": "stdout",
     "output_type": "stream",
     "text": [
      "lr 5.000000e-08 reg 1.000000e+03 train accuracy: 0.233633 val accuracy: 0.237000\n",
      "lr 5.000000e-08 reg 2.500000e+03 train accuracy: 0.246265 val accuracy: 0.261000\n",
      "lr 5.000000e-08 reg 5.000000e+03 train accuracy: 0.257837 val accuracy: 0.268000\n",
      "lr 5.000000e-08 reg 7.500000e+03 train accuracy: 0.265061 val accuracy: 0.282000\n",
      "lr 5.000000e-08 reg 1.000000e+04 train accuracy: 0.279224 val accuracy: 0.266000\n",
      "lr 5.000000e-08 reg 2.500000e+04 train accuracy: 0.340633 val accuracy: 0.341000\n",
      "lr 5.000000e-08 reg 3.000000e+04 train accuracy: 0.341735 val accuracy: 0.342000\n",
      "lr 5.000000e-08 reg 5.000000e+04 train accuracy: 0.334735 val accuracy: 0.358000\n",
      "lr 5.000000e-08 reg 7.500000e+04 train accuracy: 0.319449 val accuracy: 0.331000\n",
      "lr 5.000000e-08 reg 1.000000e+05 train accuracy: 0.310714 val accuracy: 0.323000\n",
      "lr 5.000000e-08 reg 2.500000e+05 train accuracy: 0.284980 val accuracy: 0.301000\n",
      "lr 7.500000e-08 reg 1.000000e+03 train accuracy: 0.251959 val accuracy: 0.281000\n",
      "lr 7.500000e-08 reg 2.500000e+03 train accuracy: 0.270082 val accuracy: 0.286000\n",
      "lr 7.500000e-08 reg 5.000000e+03 train accuracy: 0.293122 val accuracy: 0.291000\n",
      "lr 7.500000e-08 reg 7.500000e+03 train accuracy: 0.314367 val accuracy: 0.336000\n",
      "lr 7.500000e-08 reg 1.000000e+04 train accuracy: 0.328592 val accuracy: 0.355000\n",
      "lr 7.500000e-08 reg 2.500000e+04 train accuracy: 0.352020 val accuracy: 0.362000\n",
      "lr 7.500000e-08 reg 3.000000e+04 train accuracy: 0.348653 val accuracy: 0.364000\n",
      "lr 7.500000e-08 reg 5.000000e+04 train accuracy: 0.330367 val accuracy: 0.341000\n",
      "lr 7.500000e-08 reg 7.500000e+04 train accuracy: 0.319327 val accuracy: 0.335000\n",
      "lr 7.500000e-08 reg 1.000000e+05 train accuracy: 0.308755 val accuracy: 0.331000\n",
      "lr 7.500000e-08 reg 2.500000e+05 train accuracy: 0.284816 val accuracy: 0.296000\n",
      "lr 1.000000e-07 reg 1.000000e+03 train accuracy: 0.273367 val accuracy: 0.264000\n",
      "lr 1.000000e-07 reg 2.500000e+03 train accuracy: 0.297592 val accuracy: 0.311000\n",
      "lr 1.000000e-07 reg 5.000000e+03 train accuracy: 0.324429 val accuracy: 0.333000\n",
      "lr 1.000000e-07 reg 7.500000e+03 train accuracy: 0.347265 val accuracy: 0.359000\n",
      "lr 1.000000e-07 reg 1.000000e+04 train accuracy: 0.359653 val accuracy: 0.369000\n",
      "lr 1.000000e-07 reg 2.500000e+04 train accuracy: 0.349776 val accuracy: 0.359000\n",
      "lr 1.000000e-07 reg 3.000000e+04 train accuracy: 0.345694 val accuracy: 0.359000\n",
      "lr 1.000000e-07 reg 5.000000e+04 train accuracy: 0.329429 val accuracy: 0.334000\n",
      "lr 1.000000e-07 reg 7.500000e+04 train accuracy: 0.314878 val accuracy: 0.330000\n",
      "lr 1.000000e-07 reg 1.000000e+05 train accuracy: 0.306184 val accuracy: 0.315000\n",
      "lr 1.000000e-07 reg 2.500000e+05 train accuracy: 0.280408 val accuracy: 0.292000\n",
      "lr 2.500000e-07 reg 1.000000e+03 train accuracy: 0.329490 val accuracy: 0.326000\n",
      "lr 2.500000e-07 reg 2.500000e+03 train accuracy: 0.370510 val accuracy: 0.360000\n",
      "lr 2.500000e-07 reg 5.000000e+03 train accuracy: 0.384429 val accuracy: 0.391000\n",
      "lr 2.500000e-07 reg 7.500000e+03 train accuracy: 0.377898 val accuracy: 0.386000\n",
      "lr 2.500000e-07 reg 1.000000e+04 train accuracy: 0.371224 val accuracy: 0.386000\n",
      "lr 2.500000e-07 reg 2.500000e+04 train accuracy: 0.350571 val accuracy: 0.364000\n",
      "lr 2.500000e-07 reg 3.000000e+04 train accuracy: 0.337061 val accuracy: 0.353000\n",
      "lr 2.500000e-07 reg 5.000000e+04 train accuracy: 0.329163 val accuracy: 0.346000\n",
      "lr 2.500000e-07 reg 7.500000e+04 train accuracy: 0.317184 val accuracy: 0.345000\n",
      "lr 2.500000e-07 reg 1.000000e+05 train accuracy: 0.311694 val accuracy: 0.325000\n",
      "lr 2.500000e-07 reg 2.500000e+05 train accuracy: 0.290531 val accuracy: 0.302000\n",
      "lr 5.000000e-07 reg 1.000000e+03 train accuracy: 0.388551 val accuracy: 0.382000\n",
      "lr 5.000000e-07 reg 2.500000e+03 train accuracy: 0.395694 val accuracy: 0.394000\n",
      "lr 5.000000e-07 reg 5.000000e+03 train accuracy: 0.387490 val accuracy: 0.391000\n",
      "lr 5.000000e-07 reg 7.500000e+03 train accuracy: 0.381449 val accuracy: 0.394000\n",
      "lr 5.000000e-07 reg 1.000000e+04 train accuracy: 0.370000 val accuracy: 0.373000\n",
      "lr 5.000000e-07 reg 2.500000e+04 train accuracy: 0.351102 val accuracy: 0.365000\n",
      "lr 5.000000e-07 reg 3.000000e+04 train accuracy: 0.340082 val accuracy: 0.342000\n",
      "lr 5.000000e-07 reg 5.000000e+04 train accuracy: 0.331102 val accuracy: 0.345000\n",
      "lr 5.000000e-07 reg 7.500000e+04 train accuracy: 0.313327 val accuracy: 0.329000\n",
      "lr 5.000000e-07 reg 1.000000e+05 train accuracy: 0.313245 val accuracy: 0.329000\n",
      "lr 5.000000e-07 reg 2.500000e+05 train accuracy: 0.268653 val accuracy: 0.280000\n",
      "lr 7.500000e-07 reg 1.000000e+03 train accuracy: 0.402204 val accuracy: 0.406000\n",
      "lr 7.500000e-07 reg 2.500000e+03 train accuracy: 0.403449 val accuracy: 0.399000\n",
      "lr 7.500000e-07 reg 5.000000e+03 train accuracy: 0.384612 val accuracy: 0.388000\n",
      "lr 7.500000e-07 reg 7.500000e+03 train accuracy: 0.375816 val accuracy: 0.381000\n",
      "lr 7.500000e-07 reg 1.000000e+04 train accuracy: 0.371673 val accuracy: 0.374000\n",
      "lr 7.500000e-07 reg 2.500000e+04 train accuracy: 0.349939 val accuracy: 0.370000\n",
      "lr 7.500000e-07 reg 3.000000e+04 train accuracy: 0.332816 val accuracy: 0.347000\n",
      "lr 7.500000e-07 reg 5.000000e+04 train accuracy: 0.323143 val accuracy: 0.335000\n",
      "lr 7.500000e-07 reg 7.500000e+04 train accuracy: 0.306367 val accuracy: 0.316000\n",
      "lr 7.500000e-07 reg 1.000000e+05 train accuracy: 0.282163 val accuracy: 0.303000\n",
      "lr 7.500000e-07 reg 2.500000e+05 train accuracy: 0.271816 val accuracy: 0.279000\n",
      "best validation accuracy achieved during cross-validation: 0.406000\n"
     ]
    }
   ],
   "source": [
    "# Use the validation set to tune hyperparameters (regularization strength and\n",
    "# learning rate). You should experiment with different ranges for the learning\n",
    "# rates and regularization strengths; if you are careful you should be able to\n",
    "# get a classification accuracy of over 0.35 on the validation set.\n",
    "from cs231n.classifiers import Softmax\n",
    "results = {}\n",
    "best_val = -1\n",
    "best_softmax = None\n",
    "learning_rates = [5e-8, 7.5e-8, 1e-7, 2.5e-7, 5e-7, 7.5e-7]\n",
    "regularization_strengths = [1e3, 2.5e3, 5e3, 7.5e3, 1e4, 2.5e4, 3e4, 5e4, 7.5e4, 1e5, 2.5e5]\n",
    "\n",
    "################################################################################\n",
    "# TODO:                                                                        #\n",
    "# Use the validation set to set the learning rate and regularization strength. #\n",
    "# This should be identical to the validation that you did for the SVM; save    #\n",
    "# the best trained softmax classifer in best_softmax.                          #\n",
    "################################################################################\n",
    "for lr in learning_rates:\n",
    "    for reg in regularization_strengths:\n",
    "        softmax = Softmax()\n",
    "        loss = softmax.train(X_train, y_train, learning_rate=lr, reg=reg, num_iters=2000)\n",
    "        y_pred_train = softmax.predict(X_train)\n",
    "        y_acc_train = np.mean(y_train == y_pred_train)\n",
    "        y_pred_val = softmax.predict(X_val)\n",
    "        y_acc_val = np.mean(y_val == y_pred_val)\n",
    "        results[(lr, reg)] = (y_acc_train, y_acc_val)\n",
    "        if y_acc_val > best_val:\n",
    "            best_val = y_acc_val\n",
    "            best_softmax = softmax\n",
    "        \n",
    "################################################################################\n",
    "#                              END OF YOUR CODE                                #\n",
    "################################################################################\n",
    "    \n",
    "# Print out results.\n",
    "for lr, reg in sorted(results):\n",
    "    train_accuracy, val_accuracy = results[(lr, reg)]\n",
    "    print('lr %e reg %e train accuracy: %f val accuracy: %f' % (\n",
    "                lr, reg, train_accuracy, val_accuracy))\n",
    "    \n",
    "print('best validation accuracy achieved during cross-validation: %f' % best_val)"
   ]
  },
  {
   "cell_type": "code",
   "execution_count": 14,
   "metadata": {},
   "outputs": [
    {
     "name": "stdout",
     "output_type": "stream",
     "text": [
      "softmax on raw pixels final test set accuracy: 0.378000\n"
     ]
    }
   ],
   "source": [
    "# evaluate on test set\n",
    "# Evaluate the best softmax on test set\n",
    "y_test_pred = best_softmax.predict(X_test)\n",
    "test_accuracy = np.mean(y_test == y_test_pred)\n",
    "print('softmax on raw pixels final test set accuracy: %f' % (test_accuracy, ))"
   ]
  },
  {
   "cell_type": "code",
   "execution_count": 15,
   "metadata": {},
   "outputs": [
    {
     "data": {
      "image/png": "[encoded data removed]",
      "text/plain": [
       "<matplotlib.figure.Figure at 0x94b6470>"
      ]
     },
     "metadata": {},
     "output_type": "display_data"
    }
   ],
   "source": [
    "# Visualize the learned weights for each class\n",
    "w = best_softmax.W[:-1,:] # strip out the bias\n",
    "w = w.reshape(32, 32, 3, 10)\n",
    "\n",
    "w_min, w_max = np.min(w), np.max(w)\n",
    "\n",
    "classes = ['plane', 'car', 'bird', 'cat', 'deer', 'dog', 'frog', 'horse', 'ship', 'truck']\n",
    "for i in range(10):\n",
    "    plt.subplot(2, 5, i + 1)\n",
    "    \n",
    "    # Rescale the weights to be between 0 and 255\n",
    "    wimg = 255.0 * (w[:, :, :, i].squeeze() - w_min) / (w_max - w_min)\n",
    "    plt.imshow(wimg.astype('uint8'))\n",
    "    plt.axis('off')\n",
    "    plt.title(classes[i])"
   ]
  },
  {
   "cell_type": "code",
   "execution_count": null,
   "metadata": {
    "collapsed": true
   },
   "outputs": [],
   "source": []
  }
 ],
 "metadata": {
  "kernelspec": {
   "display_name": "Python 2",
   "language": "python",
   "name": "python2"
  },
  "language_info": {
   "codemirror_mode": {
    "name": "ipython",
    "version": 2
   },
   "file_extension": ".py",
   "mimetype": "text/x-python",
   "name": "python",
   "nbconvert_exporter": "python",
   "pygments_lexer": "ipython2",
   "version": "2.7.13"
  }
 },
 "nbformat": 4,
 "nbformat_minor": 1
}
